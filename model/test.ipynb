{
 "cells": [
  {
   "cell_type": "code",
   "execution_count": 3,
   "metadata": {},
   "outputs": [
    {
     "name": "stdout",
     "output_type": "stream",
     "text": [
      "The Number of important features is 56 \n",
      "\n"
     ]
    }
   ],
   "source": [
    "import pandas as pd\n",
    "\n",
    "import sklearn\n",
    "from sklearn.feature_selection import SelectFromModel\n",
    "from sklearn.ensemble import ExtraTreesClassifier\n",
    "from sklearn.metrics import confusion_matrix\n",
    "from sklearn.model_selection import train_test_split\n",
    "from sklearn.model_selection import cross_validate\n",
    "from sklearn import pipeline,preprocessing,metrics,model_selection,ensemble\n",
    "from sklearn_pandas import DataFrameMapper\n",
    "\n",
    "MalwareDataset = pd.read_csv('MalwareData.csv', sep='|')\n",
    "Legit = MalwareDataset[0:41323].drop(['legitimate'], axis=1)\n",
    "Malware = MalwareDataset[41323::].drop(['legitimate'], axis=1)\n",
    "\n",
    "print('The Number of important features is %i \\n' % Legit.shape[1])\n",
    "Data = MalwareDataset.drop(['Name', 'md5', 'legitimate'], axis=1).values\n",
    "Target = MalwareDataset['legitimate'].values\n"
   ]
  },
  {
   "cell_type": "code",
   "execution_count": 4,
   "metadata": {},
   "outputs": [
    {
     "name": "stdout",
     "output_type": "stream",
     "text": [
      "The score of Random Forest Algorithm is 99.48931546541108\n"
     ]
    }
   ],
   "source": [
    "FeatSelect = sklearn.ensemble.ExtraTreesClassifier().fit(Data, Target)\n",
    "Model = SelectFromModel(FeatSelect, prefit=True)\n",
    "Data_new = Model.transform(Data)\n"
   ]
  },
  {
   "cell_type": "code",
   "execution_count": 13,
   "metadata": {},
   "outputs": [],
   "source": [
    "import joblib"
   ]
  },
  {
   "cell_type": "code",
   "execution_count": 16,
   "metadata": {},
   "outputs": [
    {
     "data": {
      "text/plain": [
       "['featselect.pkl']"
      ]
     },
     "execution_count": 16,
     "metadata": {},
     "output_type": "execute_result"
    }
   ],
   "source": [
    "joblib.dump(Model,'featselect.pkl')"
   ]
  },
  {
   "cell_type": "code",
   "execution_count": 15,
   "metadata": {},
   "outputs": [
    {
     "name": "stdout",
     "output_type": "stream",
     "text": [
      "The score of Random Forest Algorithm is 99.43860919956538\n"
     ]
    }
   ],
   "source": [
    "\n",
    "Legit_Train, Legit_Test, Malware_Train, Malware_Test = train_test_split(Data_new, Target ,test_size=0.2)\n",
    "\n",
    "clf = sklearn.ensemble.RandomForestClassifier(n_estimators=50)\n",
    "clf.fit(Legit_Train, Malware_Train)\n",
    "\n",
    "score = clf.score(Legit_Test, Malware_Test)\n",
    "print(\"The score of Random Forest Algorithm is\", score*100)\n",
    "\n",
    "Result = clf.predict(Legit_Test)\n"
   ]
  },
  {
   "cell_type": "code",
   "execution_count": 14,
   "metadata": {
    "scrolled": false
   },
   "outputs": [
    {
     "data": {
      "text/plain": [
       "['RFModelforMD.pkl']"
      ]
     },
     "execution_count": 14,
     "metadata": {},
     "output_type": "execute_result"
    }
   ],
   "source": [
    "joblib.dump(clf,'RFModelforMD.pkl')"
   ]
  },
  {
   "cell_type": "code",
   "execution_count": 5,
   "metadata": {},
   "outputs": [
    {
     "name": "stdout",
     "output_type": "stream",
     "text": [
      "False positive rate : 0.373948 %\n",
      "False negative rate : 0.825754 %\n"
     ]
    }
   ],
   "source": [
    "CM = confusion_matrix(Malware_Test, Result)\n",
    "print(\"False positive rate : %f %%\" % ((CM[0][1] / float(sum(CM[0])))*100))\n",
    "print('False negative rate : %f %%' % ( (CM[1][0] /float(sum(CM[1]))*100)))\n"
   ]
  },
  {
   "cell_type": "code",
   "execution_count": 4,
   "metadata": {},
   "outputs": [
    {
     "data": {
      "text/plain": [
       "array([0, 0, 0, ..., 1, 1, 1], dtype=int64)"
      ]
     },
     "execution_count": 4,
     "metadata": {},
     "output_type": "execute_result"
    }
   ],
   "source": [
    "Result\n"
   ]
  },
  {
   "cell_type": "code",
   "execution_count": 22,
   "metadata": {},
   "outputs": [
    {
     "data": {
      "text/plain": [
       "array([0, 0, 1, ..., 1, 0, 0], dtype=int64)"
      ]
     },
     "execution_count": 22,
     "metadata": {},
     "output_type": "execute_result"
    }
   ],
   "source": [
    "modelReload1=joblib.load('featselect.pkl')\n",
    "Data_new = modelReload1.transform(Data)\n",
    "\n",
    "modelReload2=joblib.load('RFModelforMD.pkl')\n",
    "modelReload2.predict(Legit_Test)"
   ]
  }
 ],
 "metadata": {
  "kernelspec": {
   "display_name": "Python 3",
   "language": "python",
   "name": "python3"
  },
  "language_info": {
   "codemirror_mode": {
    "name": "ipython",
    "version": 3
   },
   "file_extension": ".py",
   "mimetype": "text/x-python",
   "name": "python",
   "nbconvert_exporter": "python",
   "pygments_lexer": "ipython3",
   "version": "3.7.6"
  }
 },
 "nbformat": 4,
 "nbformat_minor": 4
}
